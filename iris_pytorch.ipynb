{
  "nbformat": 4,
  "nbformat_minor": 0,
  "metadata": {
    "colab": {
      "name": "iris-pytorch.ipynb",
      "provenance": [],
      "collapsed_sections": []
    },
    "kernelspec": {
      "name": "python3",
      "display_name": "Python 3"
    }
  },
  "cells": [
    {
      "cell_type": "code",
      "metadata": {
        "id": "qvNdT5R4kca-",
        "colab_type": "code",
        "colab": {}
      },
      "source": [
        "#import libraries\n",
        "import numpy as np\n",
        "import pandas as pd\n",
        "import matplotlib.pyplot as plt\n",
        "\n",
        "import torch\n",
        "import torch.nn as nn\n",
        "from sklearn.model_selection import train_test_split\n",
        "from sklearn.metrics import accuracy_score"
      ],
      "execution_count": 0,
      "outputs": []
    },
    {
      "cell_type": "code",
      "metadata": {
        "id": "iCre7d3GzqEl",
        "colab_type": "code",
        "colab": {}
      },
      "source": [
        "torch.manual_seed(1)"
      ],
      "execution_count": 0,
      "outputs": []
    },
    {
      "cell_type": "code",
      "metadata": {
        "id": "gRU93Hwfmiru",
        "colab_type": "code",
        "colab": {}
      },
      "source": [
        "#load data\n",
        "dataset=pd.read_csv('iris.csv')\n",
        "\n",
        "#converting output-labels\n",
        "dataset.loc[dataset.species=='Iris-setosa','species']=0\n",
        "dataset.loc[dataset.species=='Iris-versicolor','species']=1\n",
        "dataset.loc[dataset.species=='Iris-virginica','species']=2"
      ],
      "execution_count": 0,
      "outputs": []
    },
    {
      "cell_type": "code",
      "metadata": {
        "id": "fS3KJGcsyYeD",
        "colab_type": "code",
        "colab": {}
      },
      "source": [
        "#pandas to numpy-array, input X and output Y\n",
        "X=dataset[dataset.columns[0:4]].values\n",
        "Y=dataset[dataset.columns[4]].values\n"
      ],
      "execution_count": 0,
      "outputs": []
    },
    {
      "cell_type": "code",
      "metadata": {
        "id": "GAHdyaI3y1rM",
        "colab_type": "code",
        "colab": {}
      },
      "source": [
        "#splitting data\n",
        "train_x,test_x,train_y,test_y=train_test_split(X,Y,test_size=0.8)"
      ],
      "execution_count": 0,
      "outputs": []
    },
    {
      "cell_type": "code",
      "metadata": {
        "id": "7lxRopVtzZU5",
        "colab_type": "code",
        "colab": {}
      },
      "source": [
        "#converting objects to integers\n",
        "train_y,test_y=train_y.astype(int),test_y.astype(int)"
      ],
      "execution_count": 0,
      "outputs": []
    },
    {
      "cell_type": "code",
      "metadata": {
        "id": "WYGc1TkvzHzp",
        "colab_type": "code",
        "colab": {}
      },
      "source": [
        "#numpy to torch-tensors\n",
        "x_train,x_test,y_train,y_test=torch.Tensor(train_x).float(),torch.Tensor(test_x).float(),torch.Tensor(train_y).long(),torch.Tensor(test_y).long()"
      ],
      "execution_count": 0,
      "outputs": []
    },
    {
      "cell_type": "code",
      "metadata": {
        "id": "my1ZAGTjpYk1",
        "colab_type": "code",
        "colab": {}
      },
      "source": [
        "#Build a model\n",
        "\n",
        "class net(nn.Module):\n",
        "  def __init__(self,input_features,output_labels):\n",
        "    super(net,self).__init__()\n",
        "    self.f1=nn.Linear(input_features,100)\n",
        "    self.a1=nn.ReLU()\n",
        "    self.f2=nn.Linear(100,100)\n",
        "    self.f3=nn.Linear(100,3)\n",
        "    self.softmax=nn.Softmax(dim=1)\n",
        "\n",
        "  def forward(self,x):\n",
        "    x=self.f1(x)\n",
        "    x=self.a1(x)\n",
        "    x=self.f2(x)\n",
        "    x=self.f3(x)\n",
        "    x=self.softmax(x)\n",
        "    return x"
      ],
      "execution_count": 0,
      "outputs": []
    },
    {
      "cell_type": "code",
      "metadata": {
        "id": "Eto2VElXqHaV",
        "colab_type": "code",
        "colab": {}
      },
      "source": [
        "#loss and optimizer\n",
        "model=net(4,3)\n",
        "loss_fn=nn.CrossEntropyLoss()\n",
        "optimizer=torch.optim.SGD(model.parameters(),lr=0.01)"
      ],
      "execution_count": 0,
      "outputs": []
    },
    {
      "cell_type": "code",
      "metadata": {
        "id": "lHjvcop_rcao",
        "colab_type": "code",
        "colab": {}
      },
      "source": [
        "#Train the model\n",
        "epochs=500\n",
        "loss1=[]\n",
        "for epoch in range(epochs):\n",
        "  yhat=model(x_train)\n",
        "  loss=loss_fn(yhat,y_train)\n",
        "  optimizer.zero_grad()\n",
        "  loss.backward()\n",
        "  optimizer.step()\n",
        "  loss1.append(loss.item())\n",
        "  print('number of epoch is',epoch,'loss is',loss.item())\n",
        "print('loss is:',loss1)\n",
        "plt.plot(loss1)\n",
        "plt.xlabel('epochs')\n",
        "plt.ylabel('loss')\n",
        "plt.show()"
      ],
      "execution_count": 0,
      "outputs": []
    },
    {
      "cell_type": "code",
      "metadata": {
        "id": "RVq0tAT5sBj3",
        "colab_type": "code",
        "colab": {}
      },
      "source": [
        "#predict output of test data\n",
        "y_predict=model(x_test)\n",
        "_,labels=torch.max(y_predict,1)\n",
        "accuracy=accuracy_score(labels,y_test)\n",
        "print(accuracy)"
      ],
      "execution_count": 0,
      "outputs": []
    },
    {
      "cell_type": "code",
      "metadata": {
        "id": "Nseb-uPmtOsj",
        "colab_type": "code",
        "colab": {}
      },
      "source": [
        ""
      ],
      "execution_count": 0,
      "outputs": []
    }
  ]
}