{
  "nbformat": 4,
  "nbformat_minor": 0,
  "metadata": {
    "colab": {
      "name": "iris-pytorch.ipynb",
      "provenance": []
    },
    "kernelspec": {
      "name": "python3",
      "display_name": "Python 3"
    },
    "accelerator": "GPU"
  },
  "cells": [
    {
      "cell_type": "code",
      "metadata": {
        "id": "dtFL05kZfvCx",
        "colab_type": "code",
        "colab": {}
      },
      "source": [
        "import numpy as np\n",
        "import pandas as pd\n",
        "from sklearn.model_selection import train_test_split\n",
        "from sklearn.metrics import accuracy_score"
      ],
      "execution_count": 0,
      "outputs": []
    },
    {
      "cell_type": "code",
      "metadata": {
        "id": "SEHfSI-CgBQV",
        "colab_type": "code",
        "colab": {}
      },
      "source": [
        "import torch\n",
        "import torch.nn as nn\n",
        "import torch.nn.functional as F\n",
        "from torch.autograd import Variable"
      ],
      "execution_count": 0,
      "outputs": []
    },
    {
      "cell_type": "code",
      "metadata": {
        "id": "XxhkxB8cgmPH",
        "colab_type": "code",
        "colab": {}
      },
      "source": [
        "#built model\n",
        "class net(nn.Module):\n",
        "  def __init__(self):\n",
        "    super(net,self).__init__()\n",
        "    self.fc1=nn.Linear(4,100)\n",
        "    self.fc2=nn.Linear(100,100)\n",
        "    self.fc3=nn.Linear(100,3)\n",
        "    self.softmax=nn.Softmax(dim=1)\n",
        "\n",
        "  def forward(self,x):\n",
        "    x=F.relu(self.fc1(x))\n",
        "    x=self.fc2(x)\n",
        "    x=self.fc3(x)\n",
        "    x=self.softmax(x)\n",
        "    return x\n"
      ],
      "execution_count": 0,
      "outputs": []
    },
    {
      "cell_type": "code",
      "metadata": {
        "id": "2FW40ZKahe6b",
        "colab_type": "code",
        "colab": {}
      },
      "source": [
        "dataset=pd.read_csv('iris.csv')\n",
        "#transform labels to 0,1,2\n",
        "dataset.loc[dataset.species=='Iris-setosa', 'species'] = 0\n",
        "dataset.loc[dataset.species=='Iris-versicolor', 'species'] = 1\n",
        "dataset.loc[dataset.species=='Iris-virginica', 'species'] = 2\n",
        "\n",
        "#splitting dataset\n",
        "train_X, test_X, train_y, test_y = train_test_split(dataset[dataset.columns[0:4]].values,\n",
        "                                                    dataset.species.values, test_size=0.8)"
      ],
      "execution_count": 0,
      "outputs": []
    },
    {
      "cell_type": "code",
      "metadata": {
        "id": "jAhooyxwnPqE",
        "colab_type": "code",
        "colab": {}
      },
      "source": [
        "train_y=train_y.astype(int)  #it has type of object.hence object to int\n",
        "test_y=test_y.astype(int)"
      ],
      "execution_count": 0,
      "outputs": []
    },
    {
      "cell_type": "code",
      "metadata": {
        "id": "wVttqnesj5z_",
        "colab_type": "code",
        "colab": {}
      },
      "source": [
        "#wrap up with variable in pytorch\n",
        "\n",
        "x_train=Variable(torch.Tensor(train_X).float())\n",
        "x_test=Variable(torch.Tensor(test_X).float())\n",
        "y_train=Variable(torch.Tensor(train_y).long())\n",
        "y_test=Variable(torch.Tensor(test_y).long())"
      ],
      "execution_count": 0,
      "outputs": []
    },
    {
      "cell_type": "code",
      "metadata": {
        "id": "0fzR7SiCoZ1D",
        "colab_type": "code",
        "colab": {}
      },
      "source": [
        "model=net()\n",
        "loss_fn=nn.CrossEntropyLoss()\n",
        "optimizer=torch.optim.SGD(model.parameters(),lr=0.01)"
      ],
      "execution_count": 0,
      "outputs": []
    },
    {
      "cell_type": "code",
      "metadata": {
        "id": "Wu1X7_SpokZG",
        "colab_type": "code",
        "colab": {}
      },
      "source": [
        "#train model\n",
        "epochs=100\n",
        "for epoch in range(epochs):\n",
        "  yhat=model(x_train)\n",
        "  loss=loss_fn(yhat,y_train)\n",
        "  optimizer.zero_grad()\n",
        "  loss.backward()\n",
        "  optimizer.step()\n",
        "  print('number of epoch',epoch,'loss',loss.item())\n"
      ],
      "execution_count": 0,
      "outputs": []
    },
    {
      "cell_type": "code",
      "metadata": {
        "id": "Hm4cIYPTq0cv",
        "colab_type": "code",
        "colab": {}
      },
      "source": [
        "y_predict=model(x_test)\n",
        "_,label=torch.max(y_predict,1)\n",
        "accuracy=accuracy_score(label,y_test)"
      ],
      "execution_count": 0,
      "outputs": []
    },
    {
      "cell_type": "code",
      "metadata": {
        "id": "Jm8coKFqr_xE",
        "colab_type": "code",
        "colab": {}
      },
      "source": [
        "accuracy"
      ],
      "execution_count": 0,
      "outputs": []
    },
    {
      "cell_type": "code",
      "metadata": {
        "id": "cGT7_XtmsBbg",
        "colab_type": "code",
        "colab": {}
      },
      "source": [
        ""
      ],
      "execution_count": 0,
      "outputs": []
    }
  ]
}